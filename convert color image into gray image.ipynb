{
 "cells": [
  {
   "cell_type": "markdown",
   "id": "b566c146",
   "metadata": {},
   "source": [
    "## import opencv package"
   ]
  },
  {
   "cell_type": "code",
   "execution_count": 1,
   "id": "23f348f1",
   "metadata": {},
   "outputs": [],
   "source": [
    "import cv2"
   ]
  },
  {
   "cell_type": "markdown",
   "id": "c7af5042",
   "metadata": {},
   "source": [
    "## read image"
   ]
  },
  {
   "cell_type": "code",
   "execution_count": 2,
   "id": "0b99bb89",
   "metadata": {},
   "outputs": [],
   "source": [
    "image = cv2.imread('color_image.jpg')"
   ]
  },
  {
   "cell_type": "markdown",
   "id": "5daccb95",
   "metadata": {},
   "source": [
    "## display image"
   ]
  },
  {
   "cell_type": "code",
   "execution_count": 3,
   "id": "2c0b4a9a",
   "metadata": {},
   "outputs": [],
   "source": [
    "cv2.imshow(\"image frame\",image)\n",
    "cv2.waitKey()\n",
    "cv2.destroyAllWindows()"
   ]
  },
  {
   "cell_type": "markdown",
   "id": "c0a3a6da",
   "metadata": {},
   "source": [
    "## convert to gray image"
   ]
  },
  {
   "cell_type": "code",
   "execution_count": 5,
   "id": "dc9d4166",
   "metadata": {},
   "outputs": [],
   "source": [
    "gray = cv2.cvtColor(image, cv2.COLOR_BGR2GRAY)"
   ]
  },
  {
   "cell_type": "markdown",
   "id": "5fe2b113",
   "metadata": {},
   "source": [
    "## display black and white image"
   ]
  },
  {
   "cell_type": "code",
   "execution_count": 6,
   "id": "8f59cba6",
   "metadata": {},
   "outputs": [],
   "source": [
    "cv2.imshow(\"image frame\",gray)\n",
    "cv2.waitKey()\n",
    "cv2.destroyAllWindows()"
   ]
  },
  {
   "cell_type": "markdown",
   "id": "70682ca2",
   "metadata": {},
   "source": [
    "## write image"
   ]
  },
  {
   "cell_type": "code",
   "execution_count": 7,
   "id": "485d65f0",
   "metadata": {},
   "outputs": [
    {
     "data": {
      "text/plain": [
       "True"
      ]
     },
     "execution_count": 7,
     "metadata": {},
     "output_type": "execute_result"
    }
   ],
   "source": [
    "cv2.imwrite(\"GrayImage.jpg\",gray)"
   ]
  },
  {
   "cell_type": "code",
   "execution_count": null,
   "id": "c95400e4",
   "metadata": {},
   "outputs": [],
   "source": []
  }
 ],
 "metadata": {
  "kernelspec": {
   "display_name": "Python 3 (ipykernel)",
   "language": "python",
   "name": "python3"
  },
  "language_info": {
   "codemirror_mode": {
    "name": "ipython",
    "version": 3
   },
   "file_extension": ".py",
   "mimetype": "text/x-python",
   "name": "python",
   "nbconvert_exporter": "python",
   "pygments_lexer": "ipython3",
   "version": "3.10.6"
  }
 },
 "nbformat": 4,
 "nbformat_minor": 5
}
