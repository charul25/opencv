{
 "cells": [
  {
   "cell_type": "code",
   "execution_count": 4,
   "id": "2675dc14",
   "metadata": {},
   "outputs": [],
   "source": [
    "import cv2\n",
    "from datetime import datetime"
   ]
  },
  {
   "cell_type": "markdown",
   "id": "8142fc8e",
   "metadata": {},
   "source": [
    "## access stored video, laptop camera or any other ip based camera"
   ]
  },
  {
   "cell_type": "code",
   "execution_count": 5,
   "id": "b4fc4c16",
   "metadata": {},
   "outputs": [],
   "source": [
    "cap = cv2.VideoCapture(0)"
   ]
  },
  {
   "cell_type": "markdown",
   "id": "4b0e1e40",
   "metadata": {},
   "source": [
    "## keep displaying the each frame from video"
   ]
  },
  {
   "cell_type": "code",
   "execution_count": null,
   "id": "a96715cd",
   "metadata": {},
   "outputs": [],
   "source": [
    "from cgitb import text\n",
    "\n",
    "\n",
    "while True:\n",
    "    ret, frame = cap.read() # read frame/image one by one\n",
    "    \n",
    "    now = datetime.now()\n",
    "    current_time = now.strftime(\"%m/%d/%Y, %H:%M:%S\")\n",
    "    text = \"Live streaming\"\n",
    "    \n",
    "    font = cv2.FONT_HERSHEY_SIMPLEX #font to apply on text\n",
    "    cv2.putText(frame, current_time, (50, 50), font, 1,(0,0,255), 2)# add text on frame\n",
    "    cv2.imshow(\"Frame\", frame)\n",
    "    \n",
    "    key = cv2.waitKey(1)\n",
    "    if key == ord(\"q\"):\n",
    "        break\n",
    "        \n",
    "cap.release() #release video capture object\n",
    "cv2.destroyAllWindows() # destroy all frame windows"
   ]
  },
  {
   "cell_type": "code",
   "execution_count": null,
   "id": "4965e48c",
   "metadata": {},
   "outputs": [],
   "source": []
  }
 ],
 "metadata": {
  "kernelspec": {
   "display_name": "Python 3 (ipykernel)",
   "language": "python",
   "name": "python3"
  },
  "language_info": {
   "codemirror_mode": {
    "name": "ipython",
    "version": 3
   },
   "file_extension": ".py",
   "mimetype": "text/x-python",
   "name": "python",
   "nbconvert_exporter": "python",
   "pygments_lexer": "ipython3",
   "version": "3.10.6"
  },
  "vscode": {
   "interpreter": {
    "hash": "88e86f65c34cd0b800fef137318f3d3c8e1d0106e4d40c02a83e043d19cd34b7"
   }
  }
 },
 "nbformat": 4,
 "nbformat_minor": 5
}
