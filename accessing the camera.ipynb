{
 "cells": [
  {
   "cell_type": "code",
   "execution_count": 2,
   "id": "ef83f0ce",
   "metadata": {},
   "outputs": [],
   "source": [
    "import cv2\n",
    "from datetime import datetime"
   ]
  },
  {
   "cell_type": "markdown",
   "id": "fbcc3645",
   "metadata": {},
   "source": [
    "## access stored video, laptop camera or any other ip based camera"
   ]
  },
  {
   "cell_type": "code",
   "execution_count": 3,
   "id": "53856ed8",
   "metadata": {},
   "outputs": [],
   "source": [
    "cap = cv2.VideoCapture(0)"
   ]
  },
  {
   "cell_type": "markdown",
   "id": "9b4ab260",
   "metadata": {},
   "source": [
    "## keep displaying the each frame from video"
   ]
  },
  {
   "cell_type": "code",
   "execution_count": null,
   "id": "29edbeab",
   "metadata": {},
   "outputs": [],
   "source": [
    "while True:\n",
    "    ret, frame = cap.read() # read frame/image one by one\n",
    "    cv2.imshow(\"frame\",frame)\n",
    "    \n",
    "    key = cv2.waitKey(1) #wait till key press\n",
    "    if key == ord(\"q\"): # exit loop 'q' key press\n",
    "        break\n",
    "        \n",
    "cap.release() # release video capture object\n",
    "cv2.destroyAllWindows() # destroy all frame windows"
   ]
  },
  {
   "cell_type": "code",
   "execution_count": null,
   "id": "d54139d9",
   "metadata": {},
   "outputs": [],
   "source": []
  },
  {
   "cell_type": "code",
   "execution_count": null,
   "id": "5c208080",
   "metadata": {},
   "outputs": [],
   "source": []
  }
 ],
 "metadata": {
  "kernelspec": {
   "display_name": "Python 3 (ipykernel)",
   "language": "python",
   "name": "python3"
  },
  "language_info": {
   "codemirror_mode": {
    "name": "ipython",
    "version": 3
   },
   "file_extension": ".py",
   "mimetype": "text/x-python",
   "name": "python",
   "nbconvert_exporter": "python",
   "pygments_lexer": "ipython3",
   "version": "3.10.6"
  }
 },
 "nbformat": 4,
 "nbformat_minor": 5
}
