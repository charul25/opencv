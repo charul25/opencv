{
 "cells": [
  {
   "cell_type": "code",
   "execution_count": 1,
   "id": "834e7eba",
   "metadata": {},
   "outputs": [],
   "source": [
    "import cv2"
   ]
  },
  {
   "cell_type": "markdown",
   "id": "294d33b4",
   "metadata": {},
   "source": [
    "## initialize video capture"
   ]
  },
  {
   "cell_type": "code",
   "execution_count": 2,
   "id": "bb74ceed",
   "metadata": {},
   "outputs": [],
   "source": [
    "cap = cv2.VideoCapture(0)"
   ]
  },
  {
   "cell_type": "markdown",
   "id": "61494c15",
   "metadata": {},
   "source": [
    "## capture image when we press 'c' key"
   ]
  },
  {
   "cell_type": "code",
   "execution_count": null,
   "id": "e9c9b0c4",
   "metadata": {},
   "outputs": [],
   "source": [
    "while(True):\n",
    "    ret,frame = cap.read()\n",
    "    cv2.imshow(\"Live Video\", frame)\n",
    "    \n",
    "    if(cv2.waitKey(1) & 0xFF == ord('c')):\n",
    "        cv2.imwrite(\"C:\\images\\capture\\capture.jpg\",frame)\n",
    "        \n",
    "        if(cv2.waitKey(1) & 0xFF == ord('q')):\n",
    "            cap.release()\n",
    "            cv2.destroyAllWindows()"
   ]
  },
  {
   "cell_type": "code",
   "execution_count": null,
   "id": "4eb1aef6",
   "metadata": {},
   "outputs": [],
   "source": []
  }
 ],
 "metadata": {
  "kernelspec": {
   "display_name": "Python 3 (ipykernel)",
   "language": "python",
   "name": "python3"
  },
  "language_info": {
   "codemirror_mode": {
    "name": "ipython",
    "version": 3
   },
   "file_extension": ".py",
   "mimetype": "text/x-python",
   "name": "python",
   "nbconvert_exporter": "python",
   "pygments_lexer": "ipython3",
   "version": "3.10.6"
  }
 },
 "nbformat": 4,
 "nbformat_minor": 5
}
