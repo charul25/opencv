{
 "cells": [
  {
   "cell_type": "markdown",
   "id": "ba700765",
   "metadata": {},
   "source": [
    "## import packages"
   ]
  },
  {
   "cell_type": "code",
   "execution_count": 6,
   "id": "63c4e0ce",
   "metadata": {},
   "outputs": [],
   "source": [
    "import cv2\n",
    "import numpy as np"
   ]
  },
  {
   "cell_type": "markdown",
   "id": "7bdf658b",
   "metadata": {},
   "source": [
    "## color range for masking"
   ]
  },
  {
   "cell_type": "code",
   "execution_count": 7,
   "id": "33ddf0fc",
   "metadata": {},
   "outputs": [],
   "source": [
    "low_green = np.array([25, 52, 72])\n",
    "high_green = np.array([102, 255, 255])"
   ]
  },
  {
   "cell_type": "markdown",
   "id": "57d5371e",
   "metadata": {},
   "source": [
    "## capture camera feed"
   ]
  },
  {
   "cell_type": "code",
   "execution_count": null,
   "id": "59995e5a",
   "metadata": {},
   "outputs": [],
   "source": [
    "cap = cv2.VideoCapture(0)"
   ]
  },
  {
   "cell_type": "markdown",
   "id": "a2fe920e",
   "metadata": {},
   "source": [
    "## process each frame"
   ]
  },
  {
   "cell_type": "code",
   "execution_count": null,
   "id": "24312752",
   "metadata": {},
   "outputs": [],
   "source": [
    "while True:\n",
    "    ret, frame = cap.read()\n",
    "    \n",
    "    # convert to HSV image\n",
    "    hsv = cv2.cvtColor(frame, cv2.COLOR_BGR2HSV)\n",
    "    #cv2.imshow('HSV', hsv)\n",
    "    \n",
    "    #mask image\n",
    "    mask = cv2.inRange(hsv, low_green,high_green)\n",
    "    cv2.imshow('Masked Frame', mask)\n",
    "    \n",
    "    #find contours(shape outlines)\n",
    "    #https://docs.opencv.org/3.4/d4/d73/tutorial_py_contours_begin.html\n",
    "    contours, hierarchy = cv2.findcontours(mask, cv2.RETR_EXTERNAL, cv2.CHAIN_APPROX_SIMPLE)\n",
    "    cv2.drawContours(frame, contours, -1,(0,0,255),2)\n",
    "    cv2.imshow('Frame', frame)\n",
    "\n",
    "    #highlighted only required size masked shapes\n",
    "    for c in contours:\n",
    "        area = cv2.contourArea(c)\n",
    "        # remove noise - small sections\n",
    "        if area > 400:\n",
    "            x,y,w,h = cv2.boundingRect(c)\n",
    "            cv2.rectangle(frame, (x,y), (x+w, y+h), (0,0,255),2)\n",
    "            cv2.drawContours(frame, c,-1,(255,0,0),2)\n",
    "        print(area)\n",
    "        #cv2.imshow('frame', frame)\n",
    "\n",
    "    if cv2.waitKey(1) == ord('q'):\n",
    "        break\n",
    "\n",
    "    cap.release()\n",
    "    cv2.destroyAllWindows()        \n",
    "    \n",
    "    \n",
    "    \n",
    "    \n",
    "    \n",
    "     "
   ]
  },
  {
   "cell_type": "code",
   "execution_count": null,
   "id": "8327e493",
   "metadata": {},
   "outputs": [],
   "source": []
  },
  {
   "cell_type": "code",
   "execution_count": null,
   "id": "75645469",
   "metadata": {},
   "outputs": [],
   "source": []
  }
 ],
 "metadata": {
  "kernelspec": {
   "display_name": "Python 3 (ipykernel)",
   "language": "python",
   "name": "python3"
  },
  "language_info": {
   "codemirror_mode": {
    "name": "ipython",
    "version": 3
   },
   "file_extension": ".py",
   "mimetype": "text/x-python",
   "name": "python",
   "nbconvert_exporter": "python",
   "pygments_lexer": "ipython3",
   "version": "3.10.6"
  },
  "vscode": {
   "interpreter": {
    "hash": "88e86f65c34cd0b800fef137318f3d3c8e1d0106e4d40c02a83e043d19cd34b7"
   }
  }
 },
 "nbformat": 4,
 "nbformat_minor": 5
}
